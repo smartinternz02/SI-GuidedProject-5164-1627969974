{
 "cells": [
  {
   "cell_type": "code",
   "execution_count": 13,
   "metadata": {},
   "outputs": [],
   "source": [
    "from tensorflow.keras.models import Sequential\n",
    "from tensorflow.keras.layers import Dense, Convolution2D,MaxPooling2D,Flatten"
   ]
  },
  {
   "cell_type": "code",
   "execution_count": 14,
   "metadata": {},
   "outputs": [],
   "source": [
    "from tensorflow.keras.preprocessing.image import ImageDataGenerator"
   ]
  },
  {
   "cell_type": "code",
   "execution_count": 15,
   "metadata": {},
   "outputs": [],
   "source": [
    "train_datagen = ImageDataGenerator(rescale = 1./255,shear_range = 0.2,zoom_range = 0.2 , horizontal_flip = True)\n",
    "test_datagen = ImageDataGenerator(rescale = 1./255)"
   ]
  },
  {
   "cell_type": "code",
   "execution_count": 16,
   "metadata": {},
   "outputs": [
    {
     "name": "stdout",
     "output_type": "stream",
     "text": [
      "Found 139 images belonging to 5 classes.\n",
      "Found 59 images belonging to 5 classes.\n"
     ]
    }
   ],
   "source": [
    "x_train = train_datagen.flow_from_directory(r\"C:\\Users\\Kithuru Fathima\\Desktop\\Externship\\Fruits\\trainset\",target_size = (64,64),batch_size = 32, class_mode = \"categorical\")\n",
    "x_test = test_datagen.flow_from_directory(r\"C:\\Users\\Kithuru Fathima\\Desktop\\Externship\\Fruits\\testset\",target_size = (64,64),batch_size = 32, class_mode = \"categorical\")"
   ]
  },
  {
   "cell_type": "code",
   "execution_count": 17,
   "metadata": {},
   "outputs": [],
   "source": [
    "cnn = Sequential()"
   ]
  },
  {
   "cell_type": "code",
   "execution_count": 18,
   "metadata": {},
   "outputs": [],
   "source": [
    "cnn.add(Convolution2D(32,(3,3),input_shape= (64,64,3)))"
   ]
  },
  {
   "cell_type": "code",
   "execution_count": 19,
   "metadata": {},
   "outputs": [],
   "source": [
    "cnn.add(MaxPooling2D((2,2)))"
   ]
  },
  {
   "cell_type": "code",
   "execution_count": 20,
   "metadata": {},
   "outputs": [],
   "source": [
    "cnn.add(Flatten())  "
   ]
  },
  {
   "cell_type": "code",
   "execution_count": 21,
   "metadata": {},
   "outputs": [],
   "source": [
    "cnn.add(Dense(units =128 ,kernel_initializer = \"random_uniform\",activation = \"relu\"))"
   ]
  },
  {
   "cell_type": "code",
   "execution_count": 22,
   "metadata": {},
   "outputs": [],
   "source": [
    "cnn.add(Dense(units = 5  ,kernel_initializer = \"random_uniform\",activation = \"softmax\"))"
   ]
  },
  {
   "cell_type": "code",
   "execution_count": 23,
   "metadata": {},
   "outputs": [],
   "source": [
    "cnn.compile(optimizer = \"rmsprop\",loss = \"categorical_crossentropy\", metrics = [\"accuracy\"])"
   ]
  },
  {
   "cell_type": "code",
   "execution_count": 27,
   "metadata": {},
   "outputs": [
    {
     "name": "stdout",
     "output_type": "stream",
     "text": [
      "Epoch 1/50\n",
      "5/4 [==================================] - 1s 250ms/step - loss: 0.0321 - acc: 0.9784 - val_loss: 0.4700 - val_acc: 0.9492\n",
      "Epoch 2/50\n",
      "5/4 [==================================] - 1s 204ms/step - loss: 0.3303 - acc: 0.9281 - val_loss: 0.3197 - val_acc: 0.9661\n",
      "Epoch 3/50\n",
      "5/4 [==================================] - 1s 192ms/step - loss: 0.0029 - acc: 1.0000 - val_loss: 0.3236 - val_acc: 0.9661\n",
      "Epoch 4/50\n",
      "5/4 [==================================] - 1s 202ms/step - loss: 0.0070 - acc: 1.0000 - val_loss: 0.3407 - val_acc: 0.9661\n",
      "Epoch 5/50\n",
      "5/4 [==================================] - 1s 205ms/step - loss: 0.0101 - acc: 0.9928 - val_loss: 0.2642 - val_acc: 0.9661\n",
      "Epoch 6/50\n",
      "5/4 [==================================] - 1s 185ms/step - loss: 0.0025 - acc: 1.0000 - val_loss: 0.3361 - val_acc: 0.9492\n",
      "Epoch 7/50\n",
      "5/4 [==================================] - 1s 220ms/step - loss: 0.0036 - acc: 1.0000 - val_loss: 0.3098 - val_acc: 0.9661\n",
      "Epoch 8/50\n",
      "5/4 [==================================] - 1s 191ms/step - loss: 0.1196 - acc: 0.9712 - val_loss: 0.2588 - val_acc: 0.9661\n",
      "Epoch 9/50\n",
      "5/4 [==================================] - 1s 217ms/step - loss: 0.0029 - acc: 1.0000 - val_loss: 0.2724 - val_acc: 0.9661\n",
      "Epoch 10/50\n",
      "5/4 [==================================] - 1s 197ms/step - loss: 0.0022 - acc: 1.0000 - val_loss: 0.2879 - val_acc: 0.9661\n",
      "Epoch 11/50\n",
      "5/4 [==================================] - 1s 194ms/step - loss: 0.0025 - acc: 1.0000 - val_loss: 0.3209 - val_acc: 0.9661\n",
      "Epoch 12/50\n",
      "5/4 [==================================] - 1s 200ms/step - loss: 0.0012 - acc: 1.0000 - val_loss: 0.3382 - val_acc: 0.9661\n",
      "Epoch 13/50\n",
      "5/4 [==================================] - 1s 215ms/step - loss: 0.0010 - acc: 1.0000 - val_loss: 0.3500 - val_acc: 0.9661\n",
      "Epoch 14/50\n",
      "5/4 [==================================] - 1s 196ms/step - loss: 7.6200e-04 - acc: 1.0000 - val_loss: 0.3593 - val_acc: 0.9661\n",
      "Epoch 15/50\n",
      "5/4 [==================================] - 1s 204ms/step - loss: 6.6420e-04 - acc: 1.0000 - val_loss: 0.3573 - val_acc: 0.9661\n",
      "Epoch 16/50\n",
      "5/4 [==================================] - 1s 217ms/step - loss: 7.6140e-04 - acc: 1.0000 - val_loss: 0.3576 - val_acc: 0.9661\n",
      "Epoch 17/50\n",
      "5/4 [==================================] - 1s 207ms/step - loss: 3.9413e-04 - acc: 1.0000 - val_loss: 0.3570 - val_acc: 0.9661\n",
      "Epoch 18/50\n",
      "5/4 [==================================] - 1s 197ms/step - loss: 0.0469 - acc: 0.9856 - val_loss: 0.2820 - val_acc: 0.9492\n",
      "Epoch 19/50\n",
      "5/4 [==================================] - 1s 202ms/step - loss: 0.1096 - acc: 0.9640 - val_loss: 0.4772 - val_acc: 0.9661\n",
      "Epoch 20/50\n",
      "5/4 [==================================] - 1s 206ms/step - loss: 0.0144 - acc: 0.9928 - val_loss: 0.3523 - val_acc: 0.9661\n",
      "Epoch 21/50\n",
      "5/4 [==================================] - 1s 195ms/step - loss: 0.0102 - acc: 0.9928 - val_loss: 0.3569 - val_acc: 0.9661\n",
      "Epoch 22/50\n",
      "5/4 [==================================] - 1s 198ms/step - loss: 0.0012 - acc: 1.0000 - val_loss: 0.3562 - val_acc: 0.9661\n",
      "Epoch 23/50\n",
      "5/4 [==================================] - 1s 215ms/step - loss: 0.0011 - acc: 1.0000 - val_loss: 0.3527 - val_acc: 0.9661\n",
      "Epoch 24/50\n",
      "5/4 [==================================] - 1s 223ms/step - loss: 0.0010 - acc: 1.0000 - val_loss: 0.3669 - val_acc: 0.9661\n",
      "Epoch 25/50\n",
      "5/4 [==================================] - 1s 211ms/step - loss: 0.0566 - acc: 0.9640 - val_loss: 0.4918 - val_acc: 0.9661\n",
      "Epoch 26/50\n",
      "5/4 [==================================] - 1s 198ms/step - loss: 0.0054 - acc: 1.0000 - val_loss: 0.3799 - val_acc: 0.9661\n",
      "Epoch 27/50\n",
      "5/4 [==================================] - 1s 202ms/step - loss: 9.0434e-04 - acc: 1.0000 - val_loss: 0.3807 - val_acc: 0.9661\n",
      "Epoch 28/50\n",
      "5/4 [==================================] - 1s 204ms/step - loss: 0.0703 - acc: 0.9856 - val_loss: 0.3828 - val_acc: 0.9661\n",
      "Epoch 29/50\n",
      "5/4 [==================================] - 1s 199ms/step - loss: 0.0107 - acc: 1.0000 - val_loss: 0.3762 - val_acc: 0.9661\n",
      "Epoch 30/50\n",
      "5/4 [==================================] - 1s 198ms/step - loss: 0.0010 - acc: 1.0000 - val_loss: 0.3559 - val_acc: 0.9661\n",
      "Epoch 31/50\n",
      "5/4 [==================================] - 1s 206ms/step - loss: 0.0020 - acc: 1.0000 - val_loss: 0.3631 - val_acc: 0.9661\n",
      "Epoch 32/50\n",
      "5/4 [==================================] - 1s 216ms/step - loss: 4.5931e-04 - acc: 1.0000 - val_loss: 0.3844 - val_acc: 0.9661\n",
      "Epoch 33/50\n",
      "5/4 [==================================] - 1s 207ms/step - loss: 4.2142e-04 - acc: 1.0000 - val_loss: 0.3657 - val_acc: 0.9661\n",
      "Epoch 34/50\n",
      "5/4 [==================================] - 1s 199ms/step - loss: 5.5648e-04 - acc: 1.0000 - val_loss: 0.3432 - val_acc: 0.9661\n",
      "Epoch 35/50\n",
      "5/4 [==================================] - 1s 210ms/step - loss: 5.5214e-04 - acc: 1.0000 - val_loss: 0.3721 - val_acc: 0.9661\n",
      "Epoch 36/50\n",
      "5/4 [==================================] - 1s 204ms/step - loss: 0.0508 - acc: 0.9784 - val_loss: 0.3995 - val_acc: 0.9661\n",
      "Epoch 37/50\n",
      "5/4 [==================================] - 1s 213ms/step - loss: 0.0054 - acc: 1.0000 - val_loss: 0.3372 - val_acc: 0.9661\n",
      "Epoch 38/50\n",
      "5/4 [==================================] - 1s 218ms/step - loss: 3.5915e-04 - acc: 1.0000 - val_loss: 0.3451 - val_acc: 0.9661\n",
      "Epoch 39/50\n",
      "5/4 [==================================] - 1s 188ms/step - loss: 3.5848e-04 - acc: 1.0000 - val_loss: 0.3617 - val_acc: 0.9661\n",
      "Epoch 40/50\n",
      "5/4 [==================================] - 1s 202ms/step - loss: 3.4078e-04 - acc: 1.0000 - val_loss: 0.3581 - val_acc: 0.9661\n",
      "Epoch 41/50\n",
      "5/4 [==================================] - 1s 223ms/step - loss: 0.0079 - acc: 0.9928 - val_loss: 0.4338 - val_acc: 0.9661\n",
      "Epoch 42/50\n",
      "5/4 [==================================] - 1s 201ms/step - loss: 0.0048 - acc: 1.0000 - val_loss: 0.3760 - val_acc: 0.9661\n",
      "Epoch 43/50\n",
      "5/4 [==================================] - 1s 193ms/step - loss: 8.3934e-04 - acc: 1.0000 - val_loss: 0.3681 - val_acc: 0.9661\n",
      "Epoch 44/50\n",
      "5/4 [==================================] - 1s 230ms/step - loss: 6.5393e-04 - acc: 1.0000 - val_loss: 0.4180 - val_acc: 0.9661\n",
      "Epoch 45/50\n",
      "5/4 [==================================] - 1s 229ms/step - loss: 0.0016 - acc: 1.0000 - val_loss: 0.4576 - val_acc: 0.9661\n",
      "Epoch 46/50\n",
      "5/4 [==================================] - 1s 207ms/step - loss: 0.0014 - acc: 1.0000 - val_loss: 0.5044 - val_acc: 0.9661\n",
      "Epoch 47/50\n",
      "5/4 [==================================] - 1s 198ms/step - loss: 6.6636e-04 - acc: 1.0000 - val_loss: 0.3936 - val_acc: 0.9661\n",
      "Epoch 48/50\n",
      "5/4 [==================================] - 1s 224ms/step - loss: 3.3419e-04 - acc: 1.0000 - val_loss: 0.3754 - val_acc: 0.9661\n",
      "Epoch 49/50\n",
      "5/4 [==================================] - 1s 220ms/step - loss: 2.7264e-04 - acc: 1.0000 - val_loss: 0.3782 - val_acc: 0.9661\n",
      "Epoch 50/50\n",
      "5/4 [==================================] - 1s 221ms/step - loss: 1.3511e-04 - acc: 1.0000 - val_loss: 0.3797 - val_acc: 0.9661\n"
     ]
    },
    {
     "data": {
      "text/plain": [
       "<tensorflow.python.keras.callbacks.History at 0x1fdd21fe0b8>"
      ]
     },
     "execution_count": 27,
     "metadata": {},
     "output_type": "execute_result"
    }
   ],
   "source": [
    "cnn.fit_generator(x_train , steps_per_epoch = 139/32 , epochs = 50, validation_data = x_test , validation_steps = 59/32 )"
   ]
  },
  {
   "cell_type": "code",
   "execution_count": 28,
   "metadata": {},
   "outputs": [],
   "source": [
    "cnn.save(\"fruits.h5\")"
   ]
  },
  {
   "cell_type": "code",
   "execution_count": 29,
   "metadata": {},
   "outputs": [],
   "source": [
    "from tensorflow.keras.models import load_model\n",
    "from tensorflow.keras.preprocessing import image\n"
   ]
  },
  {
   "cell_type": "code",
   "execution_count": 30,
   "metadata": {},
   "outputs": [
    {
     "name": "stdout",
     "output_type": "stream",
     "text": [
      "WARNING:tensorflow:From C:\\Users\\Kithuru Fathima\\Anaconda3\\lib\\site-packages\\tensorflow\\python\\ops\\init_ops.py:97: calling GlorotUniform.__init__ (from tensorflow.python.ops.init_ops) with dtype is deprecated and will be removed in a future version.\n",
      "Instructions for updating:\n",
      "Call initializer instance with the dtype argument instead of passing it to the constructor\n",
      "WARNING:tensorflow:From C:\\Users\\Kithuru Fathima\\Anaconda3\\lib\\site-packages\\tensorflow\\python\\ops\\init_ops.py:97: calling Zeros.__init__ (from tensorflow.python.ops.init_ops) with dtype is deprecated and will be removed in a future version.\n",
      "Instructions for updating:\n",
      "Call initializer instance with the dtype argument instead of passing it to the constructor\n"
     ]
    }
   ],
   "source": [
    "model = load_model(\"fruits.h5\")"
   ]
  },
  {
   "cell_type": "code",
   "execution_count": 31,
   "metadata": {},
   "outputs": [],
   "source": [
    "img = image.load_img(r\"C:\\Users\\Kithuru Fathima\\Desktop\\Externship\\Fruits\\rasp1.jpg\",target_size = (64,64)) #image of raspberry"
   ]
  },
  {
   "cell_type": "code",
   "execution_count": 32,
   "metadata": {},
   "outputs": [
    {
     "data": {
      "text/plain": [
       "PIL.Image.Image"
      ]
     },
     "execution_count": 32,
     "metadata": {},
     "output_type": "execute_result"
    }
   ],
   "source": [
    "type(img)"
   ]
  },
  {
   "cell_type": "code",
   "execution_count": 33,
   "metadata": {},
   "outputs": [],
   "source": [
    "x = image.img_to_array(img)"
   ]
  },
  {
   "cell_type": "code",
   "execution_count": 34,
   "metadata": {},
   "outputs": [
    {
     "data": {
      "text/plain": [
       "numpy.ndarray"
      ]
     },
     "execution_count": 34,
     "metadata": {},
     "output_type": "execute_result"
    }
   ],
   "source": [
    "type(x)"
   ]
  },
  {
   "cell_type": "code",
   "execution_count": 35,
   "metadata": {},
   "outputs": [],
   "source": [
    "import numpy as np\n",
    "x = np.expand_dims(x,axis = 0)"
   ]
  },
  {
   "cell_type": "code",
   "execution_count": 36,
   "metadata": {},
   "outputs": [],
   "source": [
    "pred = model.predict(x)"
   ]
  },
  {
   "cell_type": "code",
   "execution_count": 37,
   "metadata": {},
   "outputs": [
    {
     "data": {
      "text/plain": [
       "array([0., 0., 0., 0., 1.], dtype=float32)"
      ]
     },
     "execution_count": 37,
     "metadata": {},
     "output_type": "execute_result"
    }
   ],
   "source": [
    "pred[0]"
   ]
  },
  {
   "cell_type": "code",
   "execution_count": 38,
   "metadata": {},
   "outputs": [],
   "source": [
    "index = [\"Grapes\",\"Orange\",\"Pineapple\",\"Pomegranate\",\"Raspberry\"]\n",
    "predict = index[np.argmax(pred[0])]"
   ]
  },
  {
   "cell_type": "code",
   "execution_count": 39,
   "metadata": {},
   "outputs": [
    {
     "data": {
      "text/plain": [
       "'Raspberry'"
      ]
     },
     "execution_count": 39,
     "metadata": {},
     "output_type": "execute_result"
    }
   ],
   "source": [
    "predict"
   ]
  }
 ],
 "metadata": {
  "kernelspec": {
   "display_name": "Python 3",
   "language": "python",
   "name": "python3"
  },
  "language_info": {
   "codemirror_mode": {
    "name": "ipython",
    "version": 3
   },
   "file_extension": ".py",
   "mimetype": "text/x-python",
   "name": "python",
   "nbconvert_exporter": "python",
   "pygments_lexer": "ipython3",
   "version": "3.7.3"
  }
 },
 "nbformat": 4,
 "nbformat_minor": 5
}
